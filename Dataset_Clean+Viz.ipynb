{
  "nbformat": 4,
  "nbformat_minor": 0,
  "metadata": {
    "colab": {
      "name": "Dataset Clean+Viz.ipynb",
      "provenance": [],
      "collapsed_sections": []
    },
    "kernelspec": {
      "name": "python3",
      "display_name": "Python 3"
    }
  },
  "cells": [
    {
      "cell_type": "markdown",
      "metadata": {
        "id": "fMslzHyWBxbt"
      },
      "source": [
        ""
      ]
    },
    {
      "cell_type": "markdown",
      "metadata": {
        "id": "RD8AtqXNjz2B"
      },
      "source": [
        "# Dataset initalization "
      ]
    },
    {
      "cell_type": "code",
      "metadata": {
        "id": "0VVk9qxfDGTw"
      },
      "source": [
        "import numpy as np\n",
        "import pandas as pd\n",
        "import matplotlib.pyplot as plt\n",
        "import seaborn as sns\n"
      ],
      "execution_count": null,
      "outputs": []
    },
    {
      "cell_type": "code",
      "metadata": {
        "id": "OKA5meVgEdTO",
        "colab": {
          "base_uri": "https://localhost:8080/"
        },
        "outputId": "98fd610c-916e-4b55-ba52-35e8cd66cb7d"
      },
      "source": [
        "data = pd.read_csv(\"/content/drive/My Drive/datasets/data.csv\",encoding=\"ISO-8859-1\")\n",
        "cd = pd.read_csv(\"/content/drive/My Drive/datasets/city_day.csv\",encoding=\"ISO-8859-1\")\n",
        "data.fillna(0,inplace=True)\n",
        "cd.fillna(0,inplace=True)"
      ],
      "execution_count": null,
      "outputs": [
        {
          "output_type": "stream",
          "text": [
            "/usr/local/lib/python3.6/dist-packages/IPython/core/interactiveshell.py:2718: DtypeWarning: Columns (0) have mixed types.Specify dtype option on import or set low_memory=False.\n",
            "  interactivity=interactivity, compiler=compiler, result=result)\n"
          ],
          "name": "stderr"
        }
      ]
    },
    {
      "cell_type": "markdown",
      "metadata": {
        "id": "B-DRKL8ekDUR"
      },
      "source": [
        "# AQI calculation"
      ]
    },
    {
      "cell_type": "code",
      "metadata": {
        "id": "2m_9g656kiaY",
        "colab": {
          "base_uri": "https://localhost:8080/",
          "height": 206
        },
        "outputId": "8fdc34e0-95f4-4d3e-9cf9-3089691e164f"
      },
      "source": [
        "def calculate_si(so2):\n",
        "    si=0\n",
        "    if (so2<=40):\n",
        "     si= so2*(50/40)\n",
        "    if (so2>40 and so2<=80):\n",
        "     si= 50+(so2-40)*(50/40)\n",
        "    if (so2>80 and so2<=380):\n",
        "     si= 100+(so2-80)*(100/300)\n",
        "    if (so2>380 and so2<=800):\n",
        "     si= 200+(so2-380)*(100/800)\n",
        "    if (so2>800 and so2<=1600):\n",
        "     si= 300+(so2-800)*(100/800)\n",
        "    if (so2>1600):\n",
        "     si= 400+(so2-1600)*(100/800)\n",
        "    return si\n",
        "data['si']=data['so2'].apply(calculate_si)\n",
        "df= data[['so2','si']]\n",
        "df.head()"
      ],
      "execution_count": null,
      "outputs": [
        {
          "output_type": "execute_result",
          "data": {
            "text/html": [
              "<div>\n",
              "<style scoped>\n",
              "    .dataframe tbody tr th:only-of-type {\n",
              "        vertical-align: middle;\n",
              "    }\n",
              "\n",
              "    .dataframe tbody tr th {\n",
              "        vertical-align: top;\n",
              "    }\n",
              "\n",
              "    .dataframe thead th {\n",
              "        text-align: right;\n",
              "    }\n",
              "</style>\n",
              "<table border=\"1\" class=\"dataframe\">\n",
              "  <thead>\n",
              "    <tr style=\"text-align: right;\">\n",
              "      <th></th>\n",
              "      <th>so2</th>\n",
              "      <th>si</th>\n",
              "    </tr>\n",
              "  </thead>\n",
              "  <tbody>\n",
              "    <tr>\n",
              "      <th>0</th>\n",
              "      <td>4.8</td>\n",
              "      <td>6.000</td>\n",
              "    </tr>\n",
              "    <tr>\n",
              "      <th>1</th>\n",
              "      <td>3.1</td>\n",
              "      <td>3.875</td>\n",
              "    </tr>\n",
              "    <tr>\n",
              "      <th>2</th>\n",
              "      <td>6.2</td>\n",
              "      <td>7.750</td>\n",
              "    </tr>\n",
              "    <tr>\n",
              "      <th>3</th>\n",
              "      <td>6.3</td>\n",
              "      <td>7.875</td>\n",
              "    </tr>\n",
              "    <tr>\n",
              "      <th>4</th>\n",
              "      <td>4.7</td>\n",
              "      <td>5.875</td>\n",
              "    </tr>\n",
              "  </tbody>\n",
              "</table>\n",
              "</div>"
            ],
            "text/plain": [
              "   so2     si\n",
              "0  4.8  6.000\n",
              "1  3.1  3.875\n",
              "2  6.2  7.750\n",
              "3  6.3  7.875\n",
              "4  4.7  5.875"
            ]
          },
          "metadata": {
            "tags": []
          },
          "execution_count": 89
        }
      ]
    },
    {
      "cell_type": "code",
      "metadata": {
        "id": "FL-OM-pGktBa",
        "colab": {
          "base_uri": "https://localhost:8080/",
          "height": 206
        },
        "outputId": "f082cf3b-f64a-43a1-d211-9dd84253d772"
      },
      "source": [
        "def calculate_ni(no2):\n",
        "    ni=0\n",
        "    if(no2<=40):\n",
        "     ni= no2*50/40\n",
        "    elif(no2>40 and no2<=80):\n",
        "     ni= 50+(no2-14)*(50/40)\n",
        "    elif(no2>80 and no2<=180):\n",
        "     ni= 100+(no2-80)*(100/100)\n",
        "    elif(no2>180 and no2<=280):\n",
        "     ni= 200+(no2-180)*(100/100)\n",
        "    elif(no2>280 and no2<=400):\n",
        "     ni= 300+(no2-280)*(100/120)\n",
        "    else:\n",
        "     ni= 400+(no2-400)*(100/120)\n",
        "    return ni\n",
        "data['ni']=data['no2'].apply(calculate_ni)\n",
        "df= data[['no2','ni']]\n",
        "df.head()"
      ],
      "execution_count": null,
      "outputs": [
        {
          "output_type": "execute_result",
          "data": {
            "text/html": [
              "<div>\n",
              "<style scoped>\n",
              "    .dataframe tbody tr th:only-of-type {\n",
              "        vertical-align: middle;\n",
              "    }\n",
              "\n",
              "    .dataframe tbody tr th {\n",
              "        vertical-align: top;\n",
              "    }\n",
              "\n",
              "    .dataframe thead th {\n",
              "        text-align: right;\n",
              "    }\n",
              "</style>\n",
              "<table border=\"1\" class=\"dataframe\">\n",
              "  <thead>\n",
              "    <tr style=\"text-align: right;\">\n",
              "      <th></th>\n",
              "      <th>no2</th>\n",
              "      <th>ni</th>\n",
              "    </tr>\n",
              "  </thead>\n",
              "  <tbody>\n",
              "    <tr>\n",
              "      <th>0</th>\n",
              "      <td>17.4</td>\n",
              "      <td>21.750</td>\n",
              "    </tr>\n",
              "    <tr>\n",
              "      <th>1</th>\n",
              "      <td>7.0</td>\n",
              "      <td>8.750</td>\n",
              "    </tr>\n",
              "    <tr>\n",
              "      <th>2</th>\n",
              "      <td>28.5</td>\n",
              "      <td>35.625</td>\n",
              "    </tr>\n",
              "    <tr>\n",
              "      <th>3</th>\n",
              "      <td>14.7</td>\n",
              "      <td>18.375</td>\n",
              "    </tr>\n",
              "    <tr>\n",
              "      <th>4</th>\n",
              "      <td>7.5</td>\n",
              "      <td>9.375</td>\n",
              "    </tr>\n",
              "  </tbody>\n",
              "</table>\n",
              "</div>"
            ],
            "text/plain": [
              "    no2      ni\n",
              "0  17.4  21.750\n",
              "1   7.0   8.750\n",
              "2  28.5  35.625\n",
              "3  14.7  18.375\n",
              "4   7.5   9.375"
            ]
          },
          "metadata": {
            "tags": []
          },
          "execution_count": 90
        }
      ]
    },
    {
      "cell_type": "code",
      "metadata": {
        "id": "v_KiG8klkxCh",
        "colab": {
          "base_uri": "https://localhost:8080/",
          "height": 206
        },
        "outputId": "9faca2d7-04bd-4f24-b782-fb86e3294a6b"
      },
      "source": [
        "\n",
        "def calculate_(rspm):\n",
        "    rpi=0\n",
        "    if(rpi<=30):\n",
        "     rpi=rpi*50/30\n",
        "    elif(rpi>30 and rpi<=60):\n",
        "     rpi=50+(rpi-30)*50/30\n",
        "    elif(rpi>60 and rpi<=90):\n",
        "     rpi=100+(rpi-60)*100/30\n",
        "    elif(rpi>90 and rpi<=120):\n",
        "     rpi=200+(rpi-90)*100/30\n",
        "    elif(rpi>120 and rpi<=250):\n",
        "     rpi=300+(rpi-120)*(100/130)\n",
        "    else:\n",
        "     rpi=400+(rpi-250)*(100/130)\n",
        "    return rpi\n",
        "data['rpi']=data['rspm'].apply(calculate_si)\n",
        "df= data[['rspm','rpi']]\n",
        "df.tail()\n"
      ],
      "execution_count": null,
      "outputs": [
        {
          "output_type": "execute_result",
          "data": {
            "text/html": [
              "<div>\n",
              "<style scoped>\n",
              "    .dataframe tbody tr th:only-of-type {\n",
              "        vertical-align: middle;\n",
              "    }\n",
              "\n",
              "    .dataframe tbody tr th {\n",
              "        vertical-align: top;\n",
              "    }\n",
              "\n",
              "    .dataframe thead th {\n",
              "        text-align: right;\n",
              "    }\n",
              "</style>\n",
              "<table border=\"1\" class=\"dataframe\">\n",
              "  <thead>\n",
              "    <tr style=\"text-align: right;\">\n",
              "      <th></th>\n",
              "      <th>rspm</th>\n",
              "      <th>rpi</th>\n",
              "    </tr>\n",
              "  </thead>\n",
              "  <tbody>\n",
              "    <tr>\n",
              "      <th>435737</th>\n",
              "      <td>143.0</td>\n",
              "      <td>121.000000</td>\n",
              "    </tr>\n",
              "    <tr>\n",
              "      <th>435738</th>\n",
              "      <td>171.0</td>\n",
              "      <td>130.333333</td>\n",
              "    </tr>\n",
              "    <tr>\n",
              "      <th>435739</th>\n",
              "      <td>0.0</td>\n",
              "      <td>0.000000</td>\n",
              "    </tr>\n",
              "    <tr>\n",
              "      <th>435740</th>\n",
              "      <td>0.0</td>\n",
              "      <td>0.000000</td>\n",
              "    </tr>\n",
              "    <tr>\n",
              "      <th>435741</th>\n",
              "      <td>0.0</td>\n",
              "      <td>0.000000</td>\n",
              "    </tr>\n",
              "  </tbody>\n",
              "</table>\n",
              "</div>"
            ],
            "text/plain": [
              "         rspm         rpi\n",
              "435737  143.0  121.000000\n",
              "435738  171.0  130.333333\n",
              "435739    0.0    0.000000\n",
              "435740    0.0    0.000000\n",
              "435741    0.0    0.000000"
            ]
          },
          "metadata": {
            "tags": []
          },
          "execution_count": 91
        }
      ]
    },
    {
      "cell_type": "code",
      "metadata": {
        "id": "8TSxG0b4k0r1",
        "colab": {
          "base_uri": "https://localhost:8080/",
          "height": 206
        },
        "outputId": "678e9b9d-7201-43bc-94c8-a957ab4f6f28"
      },
      "source": [
        "def calculate_spi(spm):\n",
        "    spi=0\n",
        "    if(spm<=50):\n",
        "     spi=spm\n",
        "    if(spm<50 and spm<=100):\n",
        "     spi=spm\n",
        "    elif(spm>100 and spm<=250):\n",
        "     spi= 100+(spm-100)*(100/150)\n",
        "    elif(spm>250 and spm<=350):\n",
        "     spi=200+(spm-250)\n",
        "    elif(spm>350 and spm<=450):\n",
        "     spi=300+(spm-350)*(100/80)\n",
        "    else:\n",
        "     spi=400+(spm-430)*(100/80)\n",
        "    return spi\n",
        "data['spi']=data['spm'].apply(calculate_spi)\n",
        "df= data[['spm','spi']]\n",
        "df.tail()\n"
      ],
      "execution_count": null,
      "outputs": [
        {
          "output_type": "execute_result",
          "data": {
            "text/html": [
              "<div>\n",
              "<style scoped>\n",
              "    .dataframe tbody tr th:only-of-type {\n",
              "        vertical-align: middle;\n",
              "    }\n",
              "\n",
              "    .dataframe tbody tr th {\n",
              "        vertical-align: top;\n",
              "    }\n",
              "\n",
              "    .dataframe thead th {\n",
              "        text-align: right;\n",
              "    }\n",
              "</style>\n",
              "<table border=\"1\" class=\"dataframe\">\n",
              "  <thead>\n",
              "    <tr style=\"text-align: right;\">\n",
              "      <th></th>\n",
              "      <th>spm</th>\n",
              "      <th>spi</th>\n",
              "    </tr>\n",
              "  </thead>\n",
              "  <tbody>\n",
              "    <tr>\n",
              "      <th>435737</th>\n",
              "      <td>0.0</td>\n",
              "      <td>0.0</td>\n",
              "    </tr>\n",
              "    <tr>\n",
              "      <th>435738</th>\n",
              "      <td>0.0</td>\n",
              "      <td>0.0</td>\n",
              "    </tr>\n",
              "    <tr>\n",
              "      <th>435739</th>\n",
              "      <td>0.0</td>\n",
              "      <td>0.0</td>\n",
              "    </tr>\n",
              "    <tr>\n",
              "      <th>435740</th>\n",
              "      <td>0.0</td>\n",
              "      <td>0.0</td>\n",
              "    </tr>\n",
              "    <tr>\n",
              "      <th>435741</th>\n",
              "      <td>0.0</td>\n",
              "      <td>0.0</td>\n",
              "    </tr>\n",
              "  </tbody>\n",
              "</table>\n",
              "</div>"
            ],
            "text/plain": [
              "        spm  spi\n",
              "435737  0.0  0.0\n",
              "435738  0.0  0.0\n",
              "435739  0.0  0.0\n",
              "435740  0.0  0.0\n",
              "435741  0.0  0.0"
            ]
          },
          "metadata": {
            "tags": []
          },
          "execution_count": 92
        }
      ]
    },
    {
      "cell_type": "code",
      "metadata": {
        "id": "QEbwOLY3k3nT",
        "colab": {
          "base_uri": "https://localhost:8080/",
          "height": 206
        },
        "outputId": "5fee4ef3-f626-47e9-ceac-e699633aeadc"
      },
      "source": [
        "def calculate_aqi(si,ni,spi,rpi):\n",
        "    aqi=0\n",
        "    if(si>ni and si>spi and si>rpi):\n",
        "     aqi=si\n",
        "    if(spi>si and spi>ni and spi>rpi):\n",
        "     aqi=spi\n",
        "    if(ni>si and ni>spi and ni>rpi):\n",
        "     aqi=ni\n",
        "    if(rpi>si and rpi>ni and rpi>spi):\n",
        "     aqi=rpi\n",
        "    return aqi\n",
        "data['AQI']=data.apply(lambda x:calculate_aqi(x['si'],x['ni'],x['spi'],x['rpi']),axis=1)\n",
        "df= data[['sampling_date','state','si','ni','rpi','spi','AQI']]\n",
        "df.head()"
      ],
      "execution_count": null,
      "outputs": [
        {
          "output_type": "execute_result",
          "data": {
            "text/html": [
              "<div>\n",
              "<style scoped>\n",
              "    .dataframe tbody tr th:only-of-type {\n",
              "        vertical-align: middle;\n",
              "    }\n",
              "\n",
              "    .dataframe tbody tr th {\n",
              "        vertical-align: top;\n",
              "    }\n",
              "\n",
              "    .dataframe thead th {\n",
              "        text-align: right;\n",
              "    }\n",
              "</style>\n",
              "<table border=\"1\" class=\"dataframe\">\n",
              "  <thead>\n",
              "    <tr style=\"text-align: right;\">\n",
              "      <th></th>\n",
              "      <th>sampling_date</th>\n",
              "      <th>state</th>\n",
              "      <th>si</th>\n",
              "      <th>ni</th>\n",
              "      <th>rpi</th>\n",
              "      <th>spi</th>\n",
              "      <th>AQI</th>\n",
              "    </tr>\n",
              "  </thead>\n",
              "  <tbody>\n",
              "    <tr>\n",
              "      <th>0</th>\n",
              "      <td>February - M021990</td>\n",
              "      <td>Andhra Pradesh</td>\n",
              "      <td>6.000</td>\n",
              "      <td>21.750</td>\n",
              "      <td>0.0</td>\n",
              "      <td>0.0</td>\n",
              "      <td>21.750</td>\n",
              "    </tr>\n",
              "    <tr>\n",
              "      <th>1</th>\n",
              "      <td>February - M021990</td>\n",
              "      <td>Andhra Pradesh</td>\n",
              "      <td>3.875</td>\n",
              "      <td>8.750</td>\n",
              "      <td>0.0</td>\n",
              "      <td>0.0</td>\n",
              "      <td>8.750</td>\n",
              "    </tr>\n",
              "    <tr>\n",
              "      <th>2</th>\n",
              "      <td>February - M021990</td>\n",
              "      <td>Andhra Pradesh</td>\n",
              "      <td>7.750</td>\n",
              "      <td>35.625</td>\n",
              "      <td>0.0</td>\n",
              "      <td>0.0</td>\n",
              "      <td>35.625</td>\n",
              "    </tr>\n",
              "    <tr>\n",
              "      <th>3</th>\n",
              "      <td>March - M031990</td>\n",
              "      <td>Andhra Pradesh</td>\n",
              "      <td>7.875</td>\n",
              "      <td>18.375</td>\n",
              "      <td>0.0</td>\n",
              "      <td>0.0</td>\n",
              "      <td>18.375</td>\n",
              "    </tr>\n",
              "    <tr>\n",
              "      <th>4</th>\n",
              "      <td>March - M031990</td>\n",
              "      <td>Andhra Pradesh</td>\n",
              "      <td>5.875</td>\n",
              "      <td>9.375</td>\n",
              "      <td>0.0</td>\n",
              "      <td>0.0</td>\n",
              "      <td>9.375</td>\n",
              "    </tr>\n",
              "  </tbody>\n",
              "</table>\n",
              "</div>"
            ],
            "text/plain": [
              "        sampling_date           state     si      ni  rpi  spi     AQI\n",
              "0  February - M021990  Andhra Pradesh  6.000  21.750  0.0  0.0  21.750\n",
              "1  February - M021990  Andhra Pradesh  3.875   8.750  0.0  0.0   8.750\n",
              "2  February - M021990  Andhra Pradesh  7.750  35.625  0.0  0.0  35.625\n",
              "3     March - M031990  Andhra Pradesh  7.875  18.375  0.0  0.0  18.375\n",
              "4     March - M031990  Andhra Pradesh  5.875   9.375  0.0  0.0   9.375"
            ]
          },
          "metadata": {
            "tags": []
          },
          "execution_count": 93
        }
      ]
    },
    {
      "cell_type": "markdown",
      "metadata": {
        "id": "xIW1EAkMlGir"
      },
      "source": [
        "# Dataset Cleaning"
      ]
    },
    {
      "cell_type": "code",
      "metadata": {
        "id": "GrnBX7zQlKl6",
        "colab": {
          "base_uri": "https://localhost:8080/",
          "height": 424
        },
        "outputId": "3d8394c4-cbcf-4887-c50d-4c3ac5b2b973"
      },
      "source": [
        "cd"
      ],
      "execution_count": null,
      "outputs": [
        {
          "output_type": "execute_result",
          "data": {
            "text/html": [
              "<div>\n",
              "<style scoped>\n",
              "    .dataframe tbody tr th:only-of-type {\n",
              "        vertical-align: middle;\n",
              "    }\n",
              "\n",
              "    .dataframe tbody tr th {\n",
              "        vertical-align: top;\n",
              "    }\n",
              "\n",
              "    .dataframe thead th {\n",
              "        text-align: right;\n",
              "    }\n",
              "</style>\n",
              "<table border=\"1\" class=\"dataframe\">\n",
              "  <thead>\n",
              "    <tr style=\"text-align: right;\">\n",
              "      <th></th>\n",
              "      <th>City</th>\n",
              "      <th>Date</th>\n",
              "      <th>PM2.5</th>\n",
              "      <th>PM10</th>\n",
              "      <th>NO</th>\n",
              "      <th>NO2</th>\n",
              "      <th>NOx</th>\n",
              "      <th>NH3</th>\n",
              "      <th>CO</th>\n",
              "      <th>SO2</th>\n",
              "      <th>O3</th>\n",
              "      <th>Benzene</th>\n",
              "      <th>Toluene</th>\n",
              "      <th>Xylene</th>\n",
              "      <th>AQI</th>\n",
              "      <th>AQI_Bucket</th>\n",
              "    </tr>\n",
              "  </thead>\n",
              "  <tbody>\n",
              "    <tr>\n",
              "      <th>0</th>\n",
              "      <td>Ahmedabad</td>\n",
              "      <td>2015-01-01</td>\n",
              "      <td>0.00</td>\n",
              "      <td>0.00</td>\n",
              "      <td>0.92</td>\n",
              "      <td>18.22</td>\n",
              "      <td>17.15</td>\n",
              "      <td>0.00</td>\n",
              "      <td>0.92</td>\n",
              "      <td>27.64</td>\n",
              "      <td>133.36</td>\n",
              "      <td>0.00</td>\n",
              "      <td>0.02</td>\n",
              "      <td>0.00</td>\n",
              "      <td>0.0</td>\n",
              "      <td>0</td>\n",
              "    </tr>\n",
              "    <tr>\n",
              "      <th>1</th>\n",
              "      <td>Ahmedabad</td>\n",
              "      <td>2015-01-02</td>\n",
              "      <td>0.00</td>\n",
              "      <td>0.00</td>\n",
              "      <td>0.97</td>\n",
              "      <td>15.69</td>\n",
              "      <td>16.46</td>\n",
              "      <td>0.00</td>\n",
              "      <td>0.97</td>\n",
              "      <td>24.55</td>\n",
              "      <td>34.06</td>\n",
              "      <td>3.68</td>\n",
              "      <td>5.50</td>\n",
              "      <td>3.77</td>\n",
              "      <td>0.0</td>\n",
              "      <td>0</td>\n",
              "    </tr>\n",
              "    <tr>\n",
              "      <th>2</th>\n",
              "      <td>Ahmedabad</td>\n",
              "      <td>2015-01-03</td>\n",
              "      <td>0.00</td>\n",
              "      <td>0.00</td>\n",
              "      <td>17.40</td>\n",
              "      <td>19.30</td>\n",
              "      <td>29.70</td>\n",
              "      <td>0.00</td>\n",
              "      <td>17.40</td>\n",
              "      <td>29.07</td>\n",
              "      <td>30.70</td>\n",
              "      <td>6.80</td>\n",
              "      <td>16.40</td>\n",
              "      <td>2.25</td>\n",
              "      <td>0.0</td>\n",
              "      <td>0</td>\n",
              "    </tr>\n",
              "    <tr>\n",
              "      <th>3</th>\n",
              "      <td>Ahmedabad</td>\n",
              "      <td>2015-01-04</td>\n",
              "      <td>0.00</td>\n",
              "      <td>0.00</td>\n",
              "      <td>1.70</td>\n",
              "      <td>18.48</td>\n",
              "      <td>17.97</td>\n",
              "      <td>0.00</td>\n",
              "      <td>1.70</td>\n",
              "      <td>18.59</td>\n",
              "      <td>36.08</td>\n",
              "      <td>4.43</td>\n",
              "      <td>10.14</td>\n",
              "      <td>1.00</td>\n",
              "      <td>0.0</td>\n",
              "      <td>0</td>\n",
              "    </tr>\n",
              "    <tr>\n",
              "      <th>4</th>\n",
              "      <td>Ahmedabad</td>\n",
              "      <td>2015-01-05</td>\n",
              "      <td>0.00</td>\n",
              "      <td>0.00</td>\n",
              "      <td>22.10</td>\n",
              "      <td>21.42</td>\n",
              "      <td>37.76</td>\n",
              "      <td>0.00</td>\n",
              "      <td>22.10</td>\n",
              "      <td>39.33</td>\n",
              "      <td>39.31</td>\n",
              "      <td>7.01</td>\n",
              "      <td>18.89</td>\n",
              "      <td>2.78</td>\n",
              "      <td>0.0</td>\n",
              "      <td>0</td>\n",
              "    </tr>\n",
              "    <tr>\n",
              "      <th>...</th>\n",
              "      <td>...</td>\n",
              "      <td>...</td>\n",
              "      <td>...</td>\n",
              "      <td>...</td>\n",
              "      <td>...</td>\n",
              "      <td>...</td>\n",
              "      <td>...</td>\n",
              "      <td>...</td>\n",
              "      <td>...</td>\n",
              "      <td>...</td>\n",
              "      <td>...</td>\n",
              "      <td>...</td>\n",
              "      <td>...</td>\n",
              "      <td>...</td>\n",
              "      <td>...</td>\n",
              "      <td>...</td>\n",
              "    </tr>\n",
              "    <tr>\n",
              "      <th>29526</th>\n",
              "      <td>Visakhapatnam</td>\n",
              "      <td>2020-06-27</td>\n",
              "      <td>15.02</td>\n",
              "      <td>50.94</td>\n",
              "      <td>7.68</td>\n",
              "      <td>25.06</td>\n",
              "      <td>19.54</td>\n",
              "      <td>12.47</td>\n",
              "      <td>0.47</td>\n",
              "      <td>8.55</td>\n",
              "      <td>23.30</td>\n",
              "      <td>2.24</td>\n",
              "      <td>12.07</td>\n",
              "      <td>0.73</td>\n",
              "      <td>41.0</td>\n",
              "      <td>Good</td>\n",
              "    </tr>\n",
              "    <tr>\n",
              "      <th>29527</th>\n",
              "      <td>Visakhapatnam</td>\n",
              "      <td>2020-06-28</td>\n",
              "      <td>24.38</td>\n",
              "      <td>74.09</td>\n",
              "      <td>3.42</td>\n",
              "      <td>26.06</td>\n",
              "      <td>16.53</td>\n",
              "      <td>11.99</td>\n",
              "      <td>0.52</td>\n",
              "      <td>12.72</td>\n",
              "      <td>30.14</td>\n",
              "      <td>0.74</td>\n",
              "      <td>2.21</td>\n",
              "      <td>0.38</td>\n",
              "      <td>70.0</td>\n",
              "      <td>Satisfactory</td>\n",
              "    </tr>\n",
              "    <tr>\n",
              "      <th>29528</th>\n",
              "      <td>Visakhapatnam</td>\n",
              "      <td>2020-06-29</td>\n",
              "      <td>22.91</td>\n",
              "      <td>65.73</td>\n",
              "      <td>3.45</td>\n",
              "      <td>29.53</td>\n",
              "      <td>18.33</td>\n",
              "      <td>10.71</td>\n",
              "      <td>0.48</td>\n",
              "      <td>8.42</td>\n",
              "      <td>30.96</td>\n",
              "      <td>0.01</td>\n",
              "      <td>0.01</td>\n",
              "      <td>0.00</td>\n",
              "      <td>68.0</td>\n",
              "      <td>Satisfactory</td>\n",
              "    </tr>\n",
              "    <tr>\n",
              "      <th>29529</th>\n",
              "      <td>Visakhapatnam</td>\n",
              "      <td>2020-06-30</td>\n",
              "      <td>16.64</td>\n",
              "      <td>49.97</td>\n",
              "      <td>4.05</td>\n",
              "      <td>29.26</td>\n",
              "      <td>18.80</td>\n",
              "      <td>10.03</td>\n",
              "      <td>0.52</td>\n",
              "      <td>9.84</td>\n",
              "      <td>28.30</td>\n",
              "      <td>0.00</td>\n",
              "      <td>0.00</td>\n",
              "      <td>0.00</td>\n",
              "      <td>54.0</td>\n",
              "      <td>Satisfactory</td>\n",
              "    </tr>\n",
              "    <tr>\n",
              "      <th>29530</th>\n",
              "      <td>Visakhapatnam</td>\n",
              "      <td>2020-07-01</td>\n",
              "      <td>15.00</td>\n",
              "      <td>66.00</td>\n",
              "      <td>0.40</td>\n",
              "      <td>26.85</td>\n",
              "      <td>14.05</td>\n",
              "      <td>5.20</td>\n",
              "      <td>0.59</td>\n",
              "      <td>2.10</td>\n",
              "      <td>17.05</td>\n",
              "      <td>0.00</td>\n",
              "      <td>0.00</td>\n",
              "      <td>0.00</td>\n",
              "      <td>50.0</td>\n",
              "      <td>Good</td>\n",
              "    </tr>\n",
              "  </tbody>\n",
              "</table>\n",
              "<p>29531 rows × 16 columns</p>\n",
              "</div>"
            ],
            "text/plain": [
              "                City        Date  PM2.5  ...  Xylene   AQI    AQI_Bucket\n",
              "0          Ahmedabad  2015-01-01   0.00  ...    0.00   0.0             0\n",
              "1          Ahmedabad  2015-01-02   0.00  ...    3.77   0.0             0\n",
              "2          Ahmedabad  2015-01-03   0.00  ...    2.25   0.0             0\n",
              "3          Ahmedabad  2015-01-04   0.00  ...    1.00   0.0             0\n",
              "4          Ahmedabad  2015-01-05   0.00  ...    2.78   0.0             0\n",
              "...              ...         ...    ...  ...     ...   ...           ...\n",
              "29526  Visakhapatnam  2020-06-27  15.02  ...    0.73  41.0          Good\n",
              "29527  Visakhapatnam  2020-06-28  24.38  ...    0.38  70.0  Satisfactory\n",
              "29528  Visakhapatnam  2020-06-29  22.91  ...    0.00  68.0  Satisfactory\n",
              "29529  Visakhapatnam  2020-06-30  16.64  ...    0.00  54.0  Satisfactory\n",
              "29530  Visakhapatnam  2020-07-01  15.00  ...    0.00  50.0          Good\n",
              "\n",
              "[29531 rows x 16 columns]"
            ]
          },
          "metadata": {
            "tags": []
          },
          "execution_count": 94
        }
      ]
    },
    {
      "cell_type": "code",
      "metadata": {
        "id": "pRJM4EZWg4pv",
        "colab": {
          "base_uri": "https://localhost:8080/"
        },
        "outputId": "9cf811c0-0427-403d-e6c1-e1bb799e03f6"
      },
      "source": [
        "cd['City'].unique()"
      ],
      "execution_count": null,
      "outputs": [
        {
          "output_type": "execute_result",
          "data": {
            "text/plain": [
              "array(['Ahmedabad', 'Aizawl', 'Amaravati', 'Amritsar', 'Bengaluru',\n",
              "       'Bhopal', 'Brajrajnagar', 'Chandigarh', 'Chennai', 'Coimbatore',\n",
              "       'Delhi', 'Ernakulam', 'Gurugram', 'Guwahati', 'Hyderabad',\n",
              "       'Jaipur', 'Jorapokhar', 'Kochi', 'Kolkata', 'Lucknow', 'Mumbai',\n",
              "       'Patna', 'Shillong', 'Talcher', 'Thiruvananthapuram',\n",
              "       'Visakhapatnam'], dtype=object)"
            ]
          },
          "metadata": {
            "tags": []
          },
          "execution_count": 95
        }
      ]
    },
    {
      "cell_type": "code",
      "metadata": {
        "id": "-ciaQHtGlUMV",
        "colab": {
          "base_uri": "https://localhost:8080/",
          "height": 791
        },
        "outputId": "239b9508-3e23-4ac0-e599-f305aba44683"
      },
      "source": [
        "data"
      ],
      "execution_count": null,
      "outputs": [
        {
          "output_type": "execute_result",
          "data": {
            "text/html": [
              "<div>\n",
              "<style scoped>\n",
              "    .dataframe tbody tr th:only-of-type {\n",
              "        vertical-align: middle;\n",
              "    }\n",
              "\n",
              "    .dataframe tbody tr th {\n",
              "        vertical-align: top;\n",
              "    }\n",
              "\n",
              "    .dataframe thead th {\n",
              "        text-align: right;\n",
              "    }\n",
              "</style>\n",
              "<table border=\"1\" class=\"dataframe\">\n",
              "  <thead>\n",
              "    <tr style=\"text-align: right;\">\n",
              "      <th></th>\n",
              "      <th>stn_code</th>\n",
              "      <th>sampling_date</th>\n",
              "      <th>state</th>\n",
              "      <th>location</th>\n",
              "      <th>agency</th>\n",
              "      <th>type</th>\n",
              "      <th>so2</th>\n",
              "      <th>no2</th>\n",
              "      <th>rspm</th>\n",
              "      <th>spm</th>\n",
              "      <th>location_monitoring_station</th>\n",
              "      <th>pm2_5</th>\n",
              "      <th>date</th>\n",
              "      <th>si</th>\n",
              "      <th>ni</th>\n",
              "      <th>rpi</th>\n",
              "      <th>spi</th>\n",
              "      <th>AQI</th>\n",
              "    </tr>\n",
              "  </thead>\n",
              "  <tbody>\n",
              "    <tr>\n",
              "      <th>0</th>\n",
              "      <td>150</td>\n",
              "      <td>February - M021990</td>\n",
              "      <td>Andhra Pradesh</td>\n",
              "      <td>Hyderabad</td>\n",
              "      <td>0</td>\n",
              "      <td>Residential, Rural and other Areas</td>\n",
              "      <td>4.8</td>\n",
              "      <td>17.4</td>\n",
              "      <td>0.0</td>\n",
              "      <td>0.0</td>\n",
              "      <td>0</td>\n",
              "      <td>0.0</td>\n",
              "      <td>1990-02-01</td>\n",
              "      <td>6.000</td>\n",
              "      <td>21.750</td>\n",
              "      <td>0.000000</td>\n",
              "      <td>0.0</td>\n",
              "      <td>21.750000</td>\n",
              "    </tr>\n",
              "    <tr>\n",
              "      <th>1</th>\n",
              "      <td>151</td>\n",
              "      <td>February - M021990</td>\n",
              "      <td>Andhra Pradesh</td>\n",
              "      <td>Hyderabad</td>\n",
              "      <td>0</td>\n",
              "      <td>Industrial Area</td>\n",
              "      <td>3.1</td>\n",
              "      <td>7.0</td>\n",
              "      <td>0.0</td>\n",
              "      <td>0.0</td>\n",
              "      <td>0</td>\n",
              "      <td>0.0</td>\n",
              "      <td>1990-02-01</td>\n",
              "      <td>3.875</td>\n",
              "      <td>8.750</td>\n",
              "      <td>0.000000</td>\n",
              "      <td>0.0</td>\n",
              "      <td>8.750000</td>\n",
              "    </tr>\n",
              "    <tr>\n",
              "      <th>2</th>\n",
              "      <td>152</td>\n",
              "      <td>February - M021990</td>\n",
              "      <td>Andhra Pradesh</td>\n",
              "      <td>Hyderabad</td>\n",
              "      <td>0</td>\n",
              "      <td>Residential, Rural and other Areas</td>\n",
              "      <td>6.2</td>\n",
              "      <td>28.5</td>\n",
              "      <td>0.0</td>\n",
              "      <td>0.0</td>\n",
              "      <td>0</td>\n",
              "      <td>0.0</td>\n",
              "      <td>1990-02-01</td>\n",
              "      <td>7.750</td>\n",
              "      <td>35.625</td>\n",
              "      <td>0.000000</td>\n",
              "      <td>0.0</td>\n",
              "      <td>35.625000</td>\n",
              "    </tr>\n",
              "    <tr>\n",
              "      <th>3</th>\n",
              "      <td>150</td>\n",
              "      <td>March - M031990</td>\n",
              "      <td>Andhra Pradesh</td>\n",
              "      <td>Hyderabad</td>\n",
              "      <td>0</td>\n",
              "      <td>Residential, Rural and other Areas</td>\n",
              "      <td>6.3</td>\n",
              "      <td>14.7</td>\n",
              "      <td>0.0</td>\n",
              "      <td>0.0</td>\n",
              "      <td>0</td>\n",
              "      <td>0.0</td>\n",
              "      <td>1990-03-01</td>\n",
              "      <td>7.875</td>\n",
              "      <td>18.375</td>\n",
              "      <td>0.000000</td>\n",
              "      <td>0.0</td>\n",
              "      <td>18.375000</td>\n",
              "    </tr>\n",
              "    <tr>\n",
              "      <th>4</th>\n",
              "      <td>151</td>\n",
              "      <td>March - M031990</td>\n",
              "      <td>Andhra Pradesh</td>\n",
              "      <td>Hyderabad</td>\n",
              "      <td>0</td>\n",
              "      <td>Industrial Area</td>\n",
              "      <td>4.7</td>\n",
              "      <td>7.5</td>\n",
              "      <td>0.0</td>\n",
              "      <td>0.0</td>\n",
              "      <td>0</td>\n",
              "      <td>0.0</td>\n",
              "      <td>1990-03-01</td>\n",
              "      <td>5.875</td>\n",
              "      <td>9.375</td>\n",
              "      <td>0.000000</td>\n",
              "      <td>0.0</td>\n",
              "      <td>9.375000</td>\n",
              "    </tr>\n",
              "    <tr>\n",
              "      <th>...</th>\n",
              "      <td>...</td>\n",
              "      <td>...</td>\n",
              "      <td>...</td>\n",
              "      <td>...</td>\n",
              "      <td>...</td>\n",
              "      <td>...</td>\n",
              "      <td>...</td>\n",
              "      <td>...</td>\n",
              "      <td>...</td>\n",
              "      <td>...</td>\n",
              "      <td>...</td>\n",
              "      <td>...</td>\n",
              "      <td>...</td>\n",
              "      <td>...</td>\n",
              "      <td>...</td>\n",
              "      <td>...</td>\n",
              "      <td>...</td>\n",
              "      <td>...</td>\n",
              "    </tr>\n",
              "    <tr>\n",
              "      <th>435737</th>\n",
              "      <td>SAMP</td>\n",
              "      <td>24-12-15</td>\n",
              "      <td>West Bengal</td>\n",
              "      <td>ULUBERIA</td>\n",
              "      <td>West Bengal State Pollution Control Board</td>\n",
              "      <td>RIRUO</td>\n",
              "      <td>22.0</td>\n",
              "      <td>50.0</td>\n",
              "      <td>143.0</td>\n",
              "      <td>0.0</td>\n",
              "      <td>Inside Rampal Industries,ULUBERIA</td>\n",
              "      <td>0.0</td>\n",
              "      <td>2015-12-24</td>\n",
              "      <td>27.500</td>\n",
              "      <td>95.000</td>\n",
              "      <td>121.000000</td>\n",
              "      <td>0.0</td>\n",
              "      <td>121.000000</td>\n",
              "    </tr>\n",
              "    <tr>\n",
              "      <th>435738</th>\n",
              "      <td>SAMP</td>\n",
              "      <td>29-12-15</td>\n",
              "      <td>West Bengal</td>\n",
              "      <td>ULUBERIA</td>\n",
              "      <td>West Bengal State Pollution Control Board</td>\n",
              "      <td>RIRUO</td>\n",
              "      <td>20.0</td>\n",
              "      <td>46.0</td>\n",
              "      <td>171.0</td>\n",
              "      <td>0.0</td>\n",
              "      <td>Inside Rampal Industries,ULUBERIA</td>\n",
              "      <td>0.0</td>\n",
              "      <td>2015-12-29</td>\n",
              "      <td>25.000</td>\n",
              "      <td>90.000</td>\n",
              "      <td>130.333333</td>\n",
              "      <td>0.0</td>\n",
              "      <td>130.333333</td>\n",
              "    </tr>\n",
              "    <tr>\n",
              "      <th>435739</th>\n",
              "      <td>0</td>\n",
              "      <td>0</td>\n",
              "      <td>andaman-and-nicobar-islands</td>\n",
              "      <td>0</td>\n",
              "      <td>0</td>\n",
              "      <td>0</td>\n",
              "      <td>0.0</td>\n",
              "      <td>0.0</td>\n",
              "      <td>0.0</td>\n",
              "      <td>0.0</td>\n",
              "      <td>0</td>\n",
              "      <td>0.0</td>\n",
              "      <td>0</td>\n",
              "      <td>0.000</td>\n",
              "      <td>0.000</td>\n",
              "      <td>0.000000</td>\n",
              "      <td>0.0</td>\n",
              "      <td>0.000000</td>\n",
              "    </tr>\n",
              "    <tr>\n",
              "      <th>435740</th>\n",
              "      <td>0</td>\n",
              "      <td>0</td>\n",
              "      <td>Lakshadweep</td>\n",
              "      <td>0</td>\n",
              "      <td>0</td>\n",
              "      <td>0</td>\n",
              "      <td>0.0</td>\n",
              "      <td>0.0</td>\n",
              "      <td>0.0</td>\n",
              "      <td>0.0</td>\n",
              "      <td>0</td>\n",
              "      <td>0.0</td>\n",
              "      <td>0</td>\n",
              "      <td>0.000</td>\n",
              "      <td>0.000</td>\n",
              "      <td>0.000000</td>\n",
              "      <td>0.0</td>\n",
              "      <td>0.000000</td>\n",
              "    </tr>\n",
              "    <tr>\n",
              "      <th>435741</th>\n",
              "      <td>0</td>\n",
              "      <td>0</td>\n",
              "      <td>Tripura</td>\n",
              "      <td>0</td>\n",
              "      <td>0</td>\n",
              "      <td>0</td>\n",
              "      <td>0.0</td>\n",
              "      <td>0.0</td>\n",
              "      <td>0.0</td>\n",
              "      <td>0.0</td>\n",
              "      <td>0</td>\n",
              "      <td>0.0</td>\n",
              "      <td>0</td>\n",
              "      <td>0.000</td>\n",
              "      <td>0.000</td>\n",
              "      <td>0.000000</td>\n",
              "      <td>0.0</td>\n",
              "      <td>0.000000</td>\n",
              "    </tr>\n",
              "  </tbody>\n",
              "</table>\n",
              "<p>435742 rows × 18 columns</p>\n",
              "</div>"
            ],
            "text/plain": [
              "       stn_code       sampling_date  ...  spi         AQI\n",
              "0           150  February - M021990  ...  0.0   21.750000\n",
              "1           151  February - M021990  ...  0.0    8.750000\n",
              "2           152  February - M021990  ...  0.0   35.625000\n",
              "3           150     March - M031990  ...  0.0   18.375000\n",
              "4           151     March - M031990  ...  0.0    9.375000\n",
              "...         ...                 ...  ...  ...         ...\n",
              "435737     SAMP            24-12-15  ...  0.0  121.000000\n",
              "435738     SAMP            29-12-15  ...  0.0  130.333333\n",
              "435739        0                   0  ...  0.0    0.000000\n",
              "435740        0                   0  ...  0.0    0.000000\n",
              "435741        0                   0  ...  0.0    0.000000\n",
              "\n",
              "[435742 rows x 18 columns]"
            ]
          },
          "metadata": {
            "tags": []
          },
          "execution_count": 96
        }
      ]
    },
    {
      "cell_type": "code",
      "metadata": {
        "id": "Dxr9UBCEoz62"
      },
      "source": [
        "data = data[['date','AQI','location']]"
      ],
      "execution_count": null,
      "outputs": []
    },
    {
      "cell_type": "code",
      "metadata": {
        "id": "79x5JVFsscKB"
      },
      "source": [
        "cd = cd[['Date','AQI','City']]"
      ],
      "execution_count": null,
      "outputs": []
    },
    {
      "cell_type": "code",
      "metadata": {
        "id": "qP_FioRFspPd"
      },
      "source": [
        "data=data.rename(columns={'date':'Date','location':'City'})"
      ],
      "execution_count": null,
      "outputs": []
    },
    {
      "cell_type": "code",
      "metadata": {
        "id": "GiIa_JFoMFLV"
      },
      "source": [
        "df = pd.concat([data,cd],ignore_index=True)"
      ],
      "execution_count": null,
      "outputs": []
    },
    {
      "cell_type": "code",
      "metadata": {
        "id": "7rkxtwNsN9UA",
        "colab": {
          "base_uri": "https://localhost:8080/",
          "height": 424
        },
        "outputId": "4b73a6a4-cc1d-49e8-9059-9e19092fda7b"
      },
      "source": [
        "df"
      ],
      "execution_count": null,
      "outputs": [
        {
          "output_type": "execute_result",
          "data": {
            "text/html": [
              "<div>\n",
              "<style scoped>\n",
              "    .dataframe tbody tr th:only-of-type {\n",
              "        vertical-align: middle;\n",
              "    }\n",
              "\n",
              "    .dataframe tbody tr th {\n",
              "        vertical-align: top;\n",
              "    }\n",
              "\n",
              "    .dataframe thead th {\n",
              "        text-align: right;\n",
              "    }\n",
              "</style>\n",
              "<table border=\"1\" class=\"dataframe\">\n",
              "  <thead>\n",
              "    <tr style=\"text-align: right;\">\n",
              "      <th></th>\n",
              "      <th>Date</th>\n",
              "      <th>AQI</th>\n",
              "      <th>City</th>\n",
              "    </tr>\n",
              "  </thead>\n",
              "  <tbody>\n",
              "    <tr>\n",
              "      <th>0</th>\n",
              "      <td>1990-02-01</td>\n",
              "      <td>21.750</td>\n",
              "      <td>Hyderabad</td>\n",
              "    </tr>\n",
              "    <tr>\n",
              "      <th>1</th>\n",
              "      <td>1990-02-01</td>\n",
              "      <td>8.750</td>\n",
              "      <td>Hyderabad</td>\n",
              "    </tr>\n",
              "    <tr>\n",
              "      <th>2</th>\n",
              "      <td>1990-02-01</td>\n",
              "      <td>35.625</td>\n",
              "      <td>Hyderabad</td>\n",
              "    </tr>\n",
              "    <tr>\n",
              "      <th>3</th>\n",
              "      <td>1990-03-01</td>\n",
              "      <td>18.375</td>\n",
              "      <td>Hyderabad</td>\n",
              "    </tr>\n",
              "    <tr>\n",
              "      <th>4</th>\n",
              "      <td>1990-03-01</td>\n",
              "      <td>9.375</td>\n",
              "      <td>Hyderabad</td>\n",
              "    </tr>\n",
              "    <tr>\n",
              "      <th>...</th>\n",
              "      <td>...</td>\n",
              "      <td>...</td>\n",
              "      <td>...</td>\n",
              "    </tr>\n",
              "    <tr>\n",
              "      <th>465268</th>\n",
              "      <td>2020-06-27</td>\n",
              "      <td>41.000</td>\n",
              "      <td>Visakhapatnam</td>\n",
              "    </tr>\n",
              "    <tr>\n",
              "      <th>465269</th>\n",
              "      <td>2020-06-28</td>\n",
              "      <td>70.000</td>\n",
              "      <td>Visakhapatnam</td>\n",
              "    </tr>\n",
              "    <tr>\n",
              "      <th>465270</th>\n",
              "      <td>2020-06-29</td>\n",
              "      <td>68.000</td>\n",
              "      <td>Visakhapatnam</td>\n",
              "    </tr>\n",
              "    <tr>\n",
              "      <th>465271</th>\n",
              "      <td>2020-06-30</td>\n",
              "      <td>54.000</td>\n",
              "      <td>Visakhapatnam</td>\n",
              "    </tr>\n",
              "    <tr>\n",
              "      <th>465272</th>\n",
              "      <td>2020-07-01</td>\n",
              "      <td>50.000</td>\n",
              "      <td>Visakhapatnam</td>\n",
              "    </tr>\n",
              "  </tbody>\n",
              "</table>\n",
              "<p>465273 rows × 3 columns</p>\n",
              "</div>"
            ],
            "text/plain": [
              "              Date     AQI           City\n",
              "0       1990-02-01  21.750      Hyderabad\n",
              "1       1990-02-01   8.750      Hyderabad\n",
              "2       1990-02-01  35.625      Hyderabad\n",
              "3       1990-03-01  18.375      Hyderabad\n",
              "4       1990-03-01   9.375      Hyderabad\n",
              "...            ...     ...            ...\n",
              "465268  2020-06-27  41.000  Visakhapatnam\n",
              "465269  2020-06-28  70.000  Visakhapatnam\n",
              "465270  2020-06-29  68.000  Visakhapatnam\n",
              "465271  2020-06-30  54.000  Visakhapatnam\n",
              "465272  2020-07-01  50.000  Visakhapatnam\n",
              "\n",
              "[465273 rows x 3 columns]"
            ]
          },
          "metadata": {
            "tags": []
          },
          "execution_count": 101
        }
      ]
    },
    {
      "cell_type": "code",
      "metadata": {
        "id": "9HyvcP7vhmv6"
      },
      "source": [
        "MumbaiAQI = df[df['City']=='Mumbai'] \n",
        "MumbaiAQI = MumbaiAQI[['Date','AQI']]\n",
        "MumbaiAQI.to_csv(r\"/content/drive/My Drive/datasets/MumbaiAQI.csv\")"
      ],
      "execution_count": null,
      "outputs": []
    },
    {
      "cell_type": "code",
      "metadata": {
        "id": "ES75LGnrkW9n"
      },
      "source": [
        "AhmedabadAQI = df[df['City']=='Ahmedabad'] \n",
        "AhmedabadAQI = AhmedabadAQI[['Date','AQI']]\n",
        "AhmedabadAQI.to_csv(r\"/content/drive/My Drive/datasets/AhmedabadAQI.csv\")"
      ],
      "execution_count": null,
      "outputs": []
    },
    {
      "cell_type": "code",
      "metadata": {
        "id": "vmoIaj6Lku3H"
      },
      "source": [
        "AizawlAQI = df[df['City']=='Aizawl'] \n",
        "AizawlAQI = AizawlAQI[['Date','AQI']]\n",
        "AizawlAQI.to_csv(r\"/content/drive/My Drive/datasets/AizawlAQI.csv\")"
      ],
      "execution_count": null,
      "outputs": []
    },
    {
      "cell_type": "code",
      "metadata": {
        "id": "ZM2DoWHLmA8U"
      },
      "source": [
        "AmritsarAQI = df[df['City']=='Amritsar'] \n",
        "AmritsarAQI = AmritsarAQI[['Date','AQI']]\n",
        "AmritsarAQI.to_csv(r\"/content/drive/My Drive/datasets/AmritsarAQI.csv\")"
      ],
      "execution_count": null,
      "outputs": []
    },
    {
      "cell_type": "code",
      "metadata": {
        "id": "ntH4elAnmCe4"
      },
      "source": [
        "BengaluruAQI = df[(df['City']=='Bengaluru')] \n",
        "BengaluruAQI = BengaluruAQI[['Date','AQI']]\n",
        "BengaluruAQI.to_csv(r\"/content/drive/My Drive/datasets/BengaluruAQI.csv\")"
      ],
      "execution_count": null,
      "outputs": []
    },
    {
      "cell_type": "code",
      "metadata": {
        "id": "o5SV1XwrABny"
      },
      "source": [
        "BhopalAQI = df[df['City']=='Bhopal' ] \n",
        "BhopalAQI = BhopalAQI[['Date','AQI']]\n",
        "BhopalAQI.to_csv(r\"/content/drive/My Drive/datasets/BhopalAQI.csv\")"
      ],
      "execution_count": null,
      "outputs": []
    },
    {
      "cell_type": "code",
      "metadata": {
        "id": "eCjiQbqZEV1h"
      },
      "source": [
        "BhubaneshwarAQI = df[(df['City']=='Bhubaneswar') | (df['City']=='Bhubaneshwar')|(df['City']=='Brajrajnagar')] \n",
        "BhubaneshwarAQI = BhubaneshwarAQI[['Date','AQI']]\n",
        "BhubaneshwarAQI.to_csv(r\"/content/drive/My Drive/datasets/BhubaneshwarAQI.csv\")"
      ],
      "execution_count": null,
      "outputs": []
    },
    {
      "cell_type": "code",
      "metadata": {
        "id": "9EQRZ9RYEGTX"
      },
      "source": [
        "ChandigarhAQI = df[df['City']=='Chandigarh' ] \n",
        "ChandigarhAQI = ChandigarhAQI[['Date','AQI']]\n",
        "ChandigarhAQI.to_csv(r\"/content/drive/My Drive/datasets/ChandigarhAQI.csv\")"
      ],
      "execution_count": null,
      "outputs": []
    },
    {
      "cell_type": "code",
      "metadata": {
        "id": "Ky7gZC0aEGZY"
      },
      "source": [
        "ChennaiAQI = df[df['City']=='Chennai' ] \n",
        "ChennaiAQI = ChennaiAQI[['Date','AQI']]\n",
        "ChennaiAQI.to_csv(r\"/content/drive/My Drive/datasets/ChennaiAQI.csv\")"
      ],
      "execution_count": null,
      "outputs": []
    },
    {
      "cell_type": "code",
      "metadata": {
        "id": "aqazOXAZEGjh"
      },
      "source": [
        "DelhiAQI = df[df['City']=='Delhi' ] \n",
        "DelhiAQI = DelhiAQI[['Date','AQI']]\n",
        "DelhiAQI.to_csv(r\"/content/drive/My Drive/datasets/DelhiAQI.csv\")"
      ],
      "execution_count": null,
      "outputs": []
    },
    {
      "cell_type": "code",
      "metadata": {
        "id": "YU8wm1W1ABYu"
      },
      "source": [
        "GurugramAQI = df[df['City']=='Gurugram' ] \n",
        "GurugramAQI = GurugramAQI[['Date','AQI']]\n",
        "GurugramAQI.to_csv(r\"/content/drive/My Drive/datasets/GurugramAQI.csv\")"
      ],
      "execution_count": null,
      "outputs": []
    },
    {
      "cell_type": "code",
      "metadata": {
        "id": "6mTHI04hGMV6"
      },
      "source": [
        "GuwahatiAQI = df[df['City']=='Guwahati' ] \n",
        "GuwahatiAQI = GuwahatiAQI[['Date','AQI']]\n",
        "GuwahatiAQI.to_csv(r\"/content/drive/My Drive/datasets/GuwahatiAQI.csv\")"
      ],
      "execution_count": null,
      "outputs": []
    },
    {
      "cell_type": "code",
      "metadata": {
        "id": "hGUpJa1yGMYb"
      },
      "source": [
        "HyderabadAQI = df[df['City']=='Hyderabad' ] \n",
        "HyderabadAQI = HyderabadAQI[['Date','AQI']]\n",
        "HyderabadAQI.to_csv(r\"/content/drive/My Drive/datasets/HyderabadAQI.csv\")"
      ],
      "execution_count": null,
      "outputs": []
    },
    {
      "cell_type": "code",
      "metadata": {
        "id": "_FGqKejQGMcF"
      },
      "source": [
        "JaipurAQI = df[df['City']=='Jaipur' ] \n",
        "JaipurAQI = JaipurAQI[['Date','AQI']]\n",
        "JaipurAQI.to_csv(r\"/content/drive/My Drive/datasets/JaipurAQI.csv\")"
      ],
      "execution_count": null,
      "outputs": []
    },
    {
      "cell_type": "code",
      "metadata": {
        "id": "nP4-XKiWGMeV"
      },
      "source": [
        "JorapokharAQI = df[df['City']=='Jorapokhar' ] \n",
        "JorapokharAQI = JorapokharAQI[['Date','AQI']]\n",
        "JorapokharAQI.to_csv(r\"/content/drive/My Drive/datasets/JorapokharAQI.csv\")"
      ],
      "execution_count": null,
      "outputs": []
    },
    {
      "cell_type": "code",
      "metadata": {
        "id": "4gvlAVEwGMg5"
      },
      "source": [
        "KolkataAQI = df[df['City']=='Kolkata' ] \n",
        "KolkataAQI = KolkataAQI[['Date','AQI']]\n",
        "KolkataAQI.to_csv(r\"/content/drive/My Drive/datasets/KolkataAQI.csv\")"
      ],
      "execution_count": null,
      "outputs": []
    },
    {
      "cell_type": "code",
      "metadata": {
        "id": "Z98vZyodH9qN"
      },
      "source": [
        "LucknowAQI = df[df['City']=='Lucknow' ] \n",
        "LucknowAQI = LucknowAQI[['Date','AQI']]\n",
        "LucknowAQI.to_csv(r\"/content/drive/My Drive/datasets/LucknowAQI.csv\")"
      ],
      "execution_count": null,
      "outputs": []
    },
    {
      "cell_type": "code",
      "metadata": {
        "id": "H48tjzaTH9tB"
      },
      "source": [
        "PatnaAQI = df[df['City']=='Patna' ] \n",
        "PatnaAQI = PatnaAQI[['Date','AQI']]\n",
        "PatnaAQI.to_csv(r\"/content/drive/My Drive/datasets/PatnaAQI.csv\")"
      ],
      "execution_count": null,
      "outputs": []
    },
    {
      "cell_type": "code",
      "metadata": {
        "id": "hyV_W01fH9v-"
      },
      "source": [
        "ShillongAQI = df[df['City']=='Shillong' ] \n",
        "ShillongAQI = ShillongAQI[['Date','AQI']]\n",
        "ShillongAQI.to_csv(r\"/content/drive/My Drive/datasets/ShillongAQI.csv\")"
      ],
      "execution_count": null,
      "outputs": []
    },
    {
      "cell_type": "code",
      "metadata": {
        "id": "0axq_AMpJFkt"
      },
      "source": [
        "ThiruvananthapuramAQI = df[df['City']=='Thiruvananthapuram' ] \n",
        "ThiruvananthapuramAQI = ThiruvananthapuramAQI[['Date','AQI']]\n",
        "ThiruvananthapuramAQI.to_csv(r\"/content/drive/My Drive/datasets/ThiruvananthapuramAQI.csv\")"
      ],
      "execution_count": null,
      "outputs": []
    },
    {
      "cell_type": "code",
      "metadata": {
        "id": "VRwUVFWKJFty"
      },
      "source": [
        "VisakhapatnamAQI = df[df['City']=='Visakhapatnam' ] \n",
        "VisakhapatnamAQI = VisakhapatnamAQI[['Date','AQI']]\n",
        "VisakhapatnamAQI.to_csv(r\"/content/drive/My Drive/datasets/VisakhapatnamAQI.csv\")"
      ],
      "execution_count": null,
      "outputs": []
    }
  ]
}